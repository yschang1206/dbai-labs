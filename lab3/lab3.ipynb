{
 "cells": [
  {
   "cell_type": "markdown",
   "metadata": {},
   "source": [
    "# Lab 3: Partitioning"
   ]
  },
  {
   "cell_type": "code",
   "execution_count": 1,
   "metadata": {},
   "outputs": [
    {
     "name": "stdout",
     "output_type": "stream",
     "text": [
      "1.10.1\n"
     ]
    }
   ],
   "source": [
    "# TensorFlow and tf.keras\n",
    "import tensorflow as tf\n",
    "from tensorflow import keras\n",
    "\n",
    "# Helper libraries\n",
    "import numpy as np\n",
    "import matplotlib.pyplot as plt\n",
    "\n",
    "print(tf.__version__)"
   ]
  },
  {
   "cell_type": "code",
   "execution_count": 2,
   "metadata": {},
   "outputs": [],
   "source": [
    "def plot_histogram(x):\n",
    "    plt.figure(figsize=(18, 4))\n",
    "    plt.title('Histogram')\n",
    "    plt.xlabel('Key')\n",
    "    plt.ylabel('# of occurence')\n",
    "    plt.hist(x, bins=80)\n",
    "    plt.show()"
   ]
  },
  {
   "cell_type": "code",
   "execution_count": 3,
   "metadata": {},
   "outputs": [],
   "source": [
    "def obtain_logs(data):\n",
    "    import csv\n",
    "    \n",
    "    with open(data + '/logs.csv') as csvfile:\n",
    "        rows = csv.reader(csvfile, delimiter=',')\n",
    "        x = [row for row in rows]\n",
    "        x = np.array(x).astype(np.int64)\n",
    "        return x[:, 1:]"
   ]
  },
  {
   "cell_type": "code",
   "execution_count": 4,
   "metadata": {},
   "outputs": [],
   "source": [
    "def obtain_schism_key_partition_pairs(data):\n",
    "    import csv\n",
    "    \n",
    "    with open(data + '/schism.csv') as csvfile:\n",
    "        rows = csv.reader(csvfile, delimiter=',')\n",
    "        x = [row for row in rows]\n",
    "        x = np.array(x).astype(np.int64)\n",
    "        return x.T"
   ]
  },
  {
   "cell_type": "code",
   "execution_count": 5,
   "metadata": {},
   "outputs": [],
   "source": [
    "def calculate_dist_txs(keys, partitions, logs):\n",
    "    total_dist_txs = 0\n",
    "    for log in np.nditer(logs, flags=['external_loop']):\n",
    "        sel = np.zeros([len(keys)], dtype=bool)\n",
    "        for k in np.nditer(log):\n",
    "            s = (keys == k)\n",
    "            sel = np.logical_or(sel, s)\n",
    "        partition_log = partitions[sel]\n",
    "        if len(np.unique(partition_log)) != 0:\n",
    "            total_dist_txs = total_dist_txs + len(np.unique(partition_log)) - 1\n",
    "    return total_dist_txs"
   ]
  },
  {
   "cell_type": "code",
   "execution_count": 6,
   "metadata": {},
   "outputs": [],
   "source": [
    "def calculate_loading(keys, partitions, logs):\n",
    "    n_accesses = np.zeros(5)\n",
    "    n_partition = np.amax(partitions) + 1\n",
    "    logs = logs.flatten()\n",
    "    \n",
    "    accesses_all = np.array([])\n",
    "    for k in np.nditer(logs):\n",
    "        sel = (keys == k)\n",
    "        partition_log = partitions[sel]\n",
    "        accesses_all = np.append(accesses_all, partition_log)\n",
    "    accesses_partition = []\n",
    "    for p in range(n_partition):\n",
    "        accesses_partition.append(len(accesses_all[accesses_all == p]))\n",
    "    return accesses_partition"
   ]
  },
  {
   "cell_type": "markdown",
   "metadata": {},
   "source": [
    "## Obtain the workload\n",
    "\n",
    "<img src=\"workload.png\" alt=\"drawing\" width=\"400\"/>"
   ]
  },
  {
   "cell_type": "code",
   "execution_count": 7,
   "metadata": {
    "scrolled": true
   },
   "outputs": [
    {
     "data": {
      "image/png": "[encoded data removed]",
      "text/plain": [
       "<Figure size 1296x288 with 1 Axes>"
      ]
     },
     "metadata": {},
     "output_type": "display_data"
    }
   ],
   "source": [
    "data = 'uniform-range'\n",
    "#data = 'zipfian-range'\n",
    "#data = 'zipfian-little-dist'\n",
    "logs = obtain_logs(data)\n",
    "logs = logs[0:5000]\n",
    "plot_histogram(logs.flatten())"
   ]
  },
  {
   "cell_type": "markdown",
   "metadata": {},
   "source": [
    "## Partition with Schism\n",
    "\n",
    "<img src=\"partition-table.png\" alt=\"drawing\" width=\"300\"/>"
   ]
  },
  {
   "cell_type": "code",
   "execution_count": 8,
   "metadata": {
    "scrolled": true
   },
   "outputs": [
    {
     "data": {
      "image/png": "[encoded data removed]",
      "text/plain": [
       "<Figure size 1296x288 with 1 Axes>"
      ]
     },
     "metadata": {},
     "output_type": "display_data"
    }
   ],
   "source": [
    "keys, partitions = obtain_schism_key_partition_pairs(data)\n",
    "plt.figure(figsize=(18, 4))\n",
    "plt.xlabel('key')\n",
    "plt.ylabel('partition')\n",
    "plt.plot(keys, partitions, linestyle='None', marker='*')\n",
    "plt.show()"
   ]
  },
  {
   "cell_type": "markdown",
   "metadata": {},
   "source": [
    "## Evaluate the partitioning results"
   ]
  },
  {
   "cell_type": "code",
   "execution_count": 9,
   "metadata": {},
   "outputs": [
    {
     "name": "stdout",
     "output_type": "stream",
     "text": [
      "Number of distributed transactions:\n",
      "0\n",
      "Number of accesses in each partition:\n",
      "[1952, 2002, 2014, 1988, 2044]\n"
     ]
    }
   ],
   "source": [
    "n_dist_txs = calculate_dist_txs(keys, partitions, logs)\n",
    "print('Number of distributed transactions:')\n",
    "print(n_dist_txs)\n",
    "accesses_partition = calculate_loading(keys, partitions, logs)\n",
    "print('Number of accesses in each partition:')\n",
    "print(accesses_partition)"
   ]
  },
  {
   "cell_type": "code",
   "execution_count": null,
   "metadata": {},
   "outputs": [],
   "source": []
  }
 ],
 "metadata": {
  "kernelspec": {
   "display_name": "Python 2",
   "language": "python",
   "name": "python2"
  },
  "language_info": {
   "codemirror_mode": {
    "name": "ipython",
    "version": 2
   },
   "file_extension": ".py",
   "mimetype": "text/x-python",
   "name": "python",
   "nbconvert_exporter": "python",
   "pygments_lexer": "ipython2",
   "version": "2.7.15"
  }
 },
 "nbformat": 4,
 "nbformat_minor": 2
}
