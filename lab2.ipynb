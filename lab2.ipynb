{
 "cells": [
  {
   "cell_type": "markdown",
   "metadata": {},
   "source": [
    "# Lab 2: Cardinality Estimation"
   ]
  },
  {
   "cell_type": "code",
   "execution_count": 1,
   "metadata": {},
   "outputs": [
    {
     "name": "stdout",
     "output_type": "stream",
     "text": [
      "1.10.1\n"
     ]
    }
   ],
   "source": [
    "# TensorFlow and tf.keras\n",
    "import tensorflow as tf\n",
    "from tensorflow import keras\n",
    "\n",
    "# Helper libraries\n",
    "import numpy as np\n",
    "import matplotlib.pyplot as plt\n",
    "\n",
    "print(tf.__version__)"
   ]
  },
  {
   "cell_type": "code",
   "execution_count": 2,
   "metadata": {},
   "outputs": [],
   "source": [
    "def plot_histogram(x):\n",
    "    plt.figure()\n",
    "    plt.title('Histogram')\n",
    "    plt.xlabel('Value')\n",
    "    plt.ylabel('# of occurence')\n",
    "    plt.hist(x, bins=20)\n",
    "    plt.show()"
   ]
  },
  {
   "cell_type": "code",
   "execution_count": 3,
   "metadata": {},
   "outputs": [],
   "source": [
    "def cardinality(x, lowers, uppers):\n",
    "    if len(lowers) != len(uppers):\n",
    "        raise Exception('size of lowers not equal to size of uppers')\n",
    "    n = len(lowers)\n",
    "    sel = np.ones(len(x), dtype=bool)\n",
    "    for i in range(n):\n",
    "        if lowers[i] != None:\n",
    "            sel = np.logical_and(sel, x[:, i] >= lowers[i])\n",
    "        if uppers[i] != None:\n",
    "            sel = np.logical_and(sel, x[:, i] <= uppers[i])\n",
    "    return len(sel[np.where(sel == True)])"
   ]
  },
  {
   "cell_type": "code",
   "execution_count": 4,
   "metadata": {},
   "outputs": [],
   "source": [
    "def generate_training_pairs(x, n_train):\n",
    "    min_a = np.amin(x[:, 0])\n",
    "    max_a = np.amax(x[:, 0])\n",
    "    min_b = np.amin(x[:, 1])\n",
    "    max_b = np.amax(x[:, 1])\n",
    "    \n",
    "    lower_a = np.random.uniform(min_a, max_a, size=n_train)\n",
    "    upper_a = np.random.uniform(lower_a, max_a, size=n_train)\n",
    "    lower_a = lower_a.astype(np.int64)\n",
    "    upper_a = upper_a.astype(np.int64)\n",
    "    \n",
    "    lower_b = np.random.uniform(min_b, max_b, size=n_train)\n",
    "    upper_b = np.random.uniform(lower_b, max_b, size=n_train)\n",
    "    lower_b = lower_b.astype(np.int64)\n",
    "    upper_b = upper_b.astype(np.int64)\n",
    "    \n",
    "    ranges = np.stack((lower_a, upper_a, lower_b, upper_b), axis=-1)\n",
    "    cards = []\n",
    "    for i in range(n_train):\n",
    "        r = np.resize(ranges[i], (2, 2))\n",
    "        cards.append(cardinality(x, r[:, 0], r[:, 1]))\n",
    "    cards = np.array(cards)\n",
    "    sels = cards.astype(np.float64) / len(x)\n",
    "    sels = np.expand_dims(sels, 1)\n",
    "    return ranges, sels"
   ]
  },
  {
   "cell_type": "code",
   "execution_count": 5,
   "metadata": {},
   "outputs": [],
   "source": [
    "def generate_testing_pairs(x, n_test, scale):\n",
    "    min_a = np.amin(x[:, 0])\n",
    "    max_a = np.amax(x[:, 0])\n",
    "    min_b = np.amin(x[:, 1])\n",
    "    max_b = np.amax(x[:, 1])\n",
    "    \n",
    "    mid_a = np.random.uniform(min_a, max_a, size=n_test)\n",
    "    interval_a = (max_a - min_a) * scale\n",
    "    lower_a = np.clip(mid_a - interval_a, min_a, max_a)\n",
    "    upper_a = np.clip(mid_a + interval_a, min_a, max_a)\n",
    "    lower_a = lower_a.astype(np.int64)\n",
    "    upper_a = upper_a.astype(np.int64)\n",
    "    \n",
    "    mid_b = np.random.uniform(min_b, max_b, size=n_test)\n",
    "    interval_b = (max_b - min_b) * scale\n",
    "    lower_b = np.clip(mid_b - interval_b, min_b, max_b)\n",
    "    upper_b = np.clip(mid_b + interval_b, min_b, max_b)\n",
    "    lower_b = lower_b.astype(np.int64)\n",
    "    upper_b = upper_b.astype(np.int64)\n",
    "    \n",
    "    ranges = np.stack((lower_a, upper_a, lower_b, upper_b), axis=-1)\n",
    "    \n",
    "    cards = []\n",
    "    for i in range(n_test):\n",
    "        r = np.resize(ranges[i], (2, 2))\n",
    "        cards.append(cardinality(x, r[:, 0], r[:, 1]))\n",
    "    cards = np.array(cards)\n",
    "    sels = cards.astype(np.float64) / len(x)\n",
    "    sels = np.expand_dims(sels, 1)\n",
    "    return ranges, sels"
   ]
  },
  {
   "cell_type": "markdown",
   "metadata": {},
   "source": [
    "## Generate the age and the salary data"
   ]
  },
  {
   "cell_type": "code",
   "execution_count": 6,
   "metadata": {
    "scrolled": true
   },
   "outputs": [
    {
     "name": "stdout",
     "output_type": "stream",
     "text": [
      "[[1.         0.99380334]\n",
      " [0.99380334 1.        ]]\n"
     ]
    },
    {
     "data": {
      "image/png": "[encoded data removed]",
      "text/plain": [
       "<Figure size 432x288 with 1 Axes>"
      ]
     },
     "metadata": {},
     "output_type": "display_data"
    },
    {
     "data": {
      "image/png": "[encoded data removed]",
      "text/plain": [
       "<Figure size 432x288 with 1 Axes>"
      ]
     },
     "metadata": {},
     "output_type": "display_data"
    }
   ],
   "source": [
    "# means and standard deviations of the age and the salary\n",
    "mean_age = 45\n",
    "mean_salary = 45\n",
    "sd_age = 20\n",
    "sd_salary = 30\n",
    "#cov = 0\n",
    "cov = sd_age * sd_salary\n",
    "x = np.random.multivariate_normal([mean_age, mean_salary], \n",
    "                                  [[sd_age ** 2, cov], \n",
    "                                   [cov, sd_salary ** 2]], \n",
    "                                  size=20000)\n",
    "x = x.astype(np.int64)\n",
    "x = np.clip(x, 0, None)\n",
    "print(np.corrcoef(x.T))\n",
    "plot_histogram(x[:, 0])\n",
    "plot_histogram(x[:, 1])"
   ]
  },
  {
   "cell_type": "code",
   "execution_count": 7,
   "metadata": {},
   "outputs": [
    {
     "data": {
      "image/png": "[encoded data removed]",
      "text/plain": [
       "<Figure size 432x288 with 1 Axes>"
      ]
     },
     "metadata": {},
     "output_type": "display_data"
    }
   ],
   "source": [
    "plt.figure()\n",
    "plt.plot(x[:, 0], x[:, 1], linestyle='None', marker='*')\n",
    "plt.xlabel('Age')\n",
    "plt.ylabel('Salary')\n",
    "plt.show()"
   ]
  },
  {
   "cell_type": "markdown",
   "metadata": {},
   "source": [
    "## Assume columns are independent"
   ]
  },
  {
   "cell_type": "code",
   "execution_count": 8,
   "metadata": {},
   "outputs": [
    {
     "name": "stdout",
     "output_type": "stream",
     "text": [
      "Selectivity under independent-column assumption:\n",
      "0.2568108375\n",
      "Actual selectivity:\n",
      "0.0136\n"
     ]
    }
   ],
   "source": [
    "card = cardinality(x, (45, None), (None, None)) * cardinality(x, (None, None), (None, 45))\n",
    "print('Selectivity under independent-column assumption:')\n",
    "print(np.float64(card) / (len(x) ** 2))\n",
    "card = cardinality(x, (45, None), (None, 45))\n",
    "print('Actual selectivity:')\n",
    "print(np.float64(card) / len(x))"
   ]
  },
  {
   "cell_type": "markdown",
   "metadata": {},
   "source": [
    "## Generate training pairs"
   ]
  },
  {
   "cell_type": "code",
   "execution_count": null,
   "metadata": {},
   "outputs": [],
   "source": [
    "ranges, sels = generate_training_pairs(x, 20000)\n",
    "print(ranges[0:3])\n",
    "print(ranges.shape)\n",
    "print(sels[0:3])\n",
    "print(sels.shape)"
   ]
  },
  {
   "cell_type": "markdown",
   "metadata": {},
   "source": [
    "## Build and train the selectivity estimation model"
   ]
  },
  {
   "cell_type": "code",
   "execution_count": null,
   "metadata": {},
   "outputs": [],
   "source": [
    "model = keras.Sequential([\n",
    "    keras.layers.Dense(1024, activation=tf.nn.sigmoid),\n",
    "    keras.layers.Dense(32, activation=tf.nn.sigmoid),\n",
    "    keras.layers.Dense(1)\n",
    "])"
   ]
  },
  {
   "cell_type": "code",
   "execution_count": null,
   "metadata": {},
   "outputs": [],
   "source": [
    "model.compile(optimizer=tf.train.AdamOptimizer(), \n",
    "              loss='mean_absolute_error',\n",
    "              metrics=['accuracy'])"
   ]
  },
  {
   "cell_type": "code",
   "execution_count": null,
   "metadata": {},
   "outputs": [],
   "source": [
    "ranges_train = ranges[:18000]\n",
    "sels_train = sels[:18000]\n",
    "ranges_val = ranges[18000:]\n",
    "sels_val = sels[18000:]"
   ]
  },
  {
   "cell_type": "markdown",
   "metadata": {},
   "source": [
    "## Display the training process"
   ]
  },
  {
   "cell_type": "code",
   "execution_count": null,
   "metadata": {},
   "outputs": [],
   "source": [
    "history = model.fit(ranges_train, sels_train, validation_data=(ranges_val, sels_val), epochs=10, batch_size=2000)"
   ]
  },
  {
   "cell_type": "code",
   "execution_count": null,
   "metadata": {},
   "outputs": [],
   "source": [
    "acc = history.history['acc']\n",
    "val_acc = history.history['val_acc']\n",
    "loss = history.history['loss']\n",
    "val_loss = history.history['val_loss']\n",
    "\n",
    "epochs = range(1, len(acc) + 1)\n",
    "\n",
    "# \"bo\" is for \"blue dot\"\n",
    "plt.plot(epochs, loss, 'bo', label='Training loss')\n",
    "# b is for \"solid blue line\"\n",
    "plt.plot(epochs, val_loss, 'b', label='Validation loss')\n",
    "plt.title('Training and validation loss')\n",
    "plt.xlabel('Epochs')\n",
    "plt.ylabel('Loss')\n",
    "plt.legend()\n",
    "\n",
    "plt.show()"
   ]
  },
  {
   "cell_type": "markdown",
   "metadata": {},
   "source": [
    "## Make predictions on the training set"
   ]
  },
  {
   "cell_type": "code",
   "execution_count": null,
   "metadata": {},
   "outputs": [],
   "source": [
    "preds = model.predict(ranges)\n",
    "print(sels.shape)\n",
    "print(preds.shape)\n",
    "delta = sels - preds\n",
    "print(np.mean(np.absolute(delta)))"
   ]
  },
  {
   "cell_type": "markdown",
   "metadata": {},
   "source": [
    "## Generate the testing set"
   ]
  },
  {
   "cell_type": "code",
   "execution_count": null,
   "metadata": {},
   "outputs": [],
   "source": [
    "ranges_test, sels_test = generate_testing_pairs(x, 200, 0.1)"
   ]
  },
  {
   "cell_type": "markdown",
   "metadata": {},
   "source": [
    "## Make predictions on the testing set"
   ]
  },
  {
   "cell_type": "code",
   "execution_count": null,
   "metadata": {},
   "outputs": [],
   "source": [
    "preds_test = model.predict(ranges_test)\n",
    "delta = sels_test - preds_test\n",
    "print(np.mean(np.absolute(delta)))"
   ]
  },
  {
   "cell_type": "markdown",
   "metadata": {},
   "source": [
    "## Evaluate the results"
   ]
  },
  {
   "cell_type": "code",
   "execution_count": null,
   "metadata": {},
   "outputs": [],
   "source": [
    "plt.figure()\n",
    "plt.xlabel('Selectivity')\n",
    "plt.ylabel('Error')\n",
    "plt.plot(sels_test, delta, linestyle='None', marker='*')\n",
    "plt.show()"
   ]
  },
  {
   "cell_type": "code",
   "execution_count": null,
   "metadata": {},
   "outputs": [],
   "source": []
  }
 ],
 "metadata": {
  "kernelspec": {
   "display_name": "Python 2",
   "language": "python",
   "name": "python2"
  },
  "language_info": {
   "codemirror_mode": {
    "name": "ipython",
    "version": 2
   },
   "file_extension": ".py",
   "mimetype": "text/x-python",
   "name": "python",
   "nbconvert_exporter": "python",
   "pygments_lexer": "ipython2",
   "version": "2.7.15"
  }
 },
 "nbformat": 4,
 "nbformat_minor": 2
}
